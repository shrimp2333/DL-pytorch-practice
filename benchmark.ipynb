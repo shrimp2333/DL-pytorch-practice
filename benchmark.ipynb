{
 "cells": [
  {
   "cell_type": "code",
   "execution_count": 5,
   "id": "a1770799",
   "metadata": {},
   "outputs": [
    {
     "data": {
      "text/plain": [
       "33.7712160918097"
      ]
     },
     "execution_count": 5,
     "metadata": {},
     "output_type": "execute_result"
    }
   ],
   "source": [
    "import torch\n",
    "from torch.utils import benchmark\n",
    "\n",
    "typ = torch.float16\n",
    "n = 1024 *16\n",
    "a = torch.randn(n, n).type(typ).cuda()\n",
    "b = torch.randn(n, n).type(typ).cuda()\n",
    "\n",
    "t = benchmark.Timer(\n",
    "    stmt='a @ b',\n",
    "    globals={'a': a, 'b': b})\n",
    "\n",
    "x = t.timeit(50)\n",
    "2*n**3 / x.median / 1e12\n",
    "#3070 laptop"
   ]
  },
  {
   "cell_type": "code",
   "execution_count": null,
   "id": "46b0c31d",
   "metadata": {},
   "outputs": [],
   "source": [
    "import torch\n",
    "from torch.utils import benchmark\n",
    "\n",
    "typ = torch.float16\n",
    "n = 1024 *16\n",
    "a = torch.randn(n, n).type(typ).cuda()\n",
    "b = torch.randn(n, n).type(typ).cuda()\n",
    "\n",
    "t = benchmark.Timer(\n",
    "    stmt='a @ b',\n",
    "    globals={'a': a, 'b': b})\n",
    "\n",
    "x = t.timeit(50)\n",
    "2*n**3 / x.median / 1e12"
   ]
  }
 ],
 "metadata": {
  "kernelspec": {
   "display_name": "Python 3 (ipykernel)",
   "language": "python",
   "name": "python3"
  },
  "language_info": {
   "codemirror_mode": {
    "name": "ipython",
    "version": 3
   },
   "file_extension": ".py",
   "mimetype": "text/x-python",
   "name": "python",
   "nbconvert_exporter": "python",
   "pygments_lexer": "ipython3",
   "version": "3.8.18"
  }
 },
 "nbformat": 4,
 "nbformat_minor": 5
}
